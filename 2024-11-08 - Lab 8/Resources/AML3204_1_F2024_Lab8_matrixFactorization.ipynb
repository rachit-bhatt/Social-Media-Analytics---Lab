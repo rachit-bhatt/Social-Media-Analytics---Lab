{
  "nbformat": 4,
  "nbformat_minor": 0,
  "metadata": {
    "colab": {
      "provenance": []
    },
    "kernelspec": {
      "name": "python3",
      "display_name": "Python 3"
    },
    "language_info": {
      "name": "python"
    }
  },
  "cells": [
    {
      "cell_type": "code",
      "execution_count": null,
      "metadata": {
        "id": "2tj9NhI5H5p7"
      },
      "outputs": [],
      "source": [
        "import numpy as np"
      ]
    },
    {
      "cell_type": "code",
      "source": [
        "# Create rating table\n",
        "R = np.array([\n",
        "    [5, 3, 0, 1, 4],\n",
        "    [4, 0, 0, 2, 2],\n",
        "    [4, 5, 4, 3, 0],\n",
        "    [0, 3, 1, 0, 5]\n",
        "])\n",
        "\n",
        "R"
      ],
      "metadata": {
        "colab": {
          "base_uri": "https://localhost:8080/"
        },
        "id": "i7z2QeLMIZTx",
        "outputId": "6255c2b3-14b7-49af-8ac3-d0171edd9c42"
      },
      "execution_count": null,
      "outputs": [
        {
          "output_type": "execute_result",
          "data": {
            "text/plain": [
              "array([[5, 3, 0, 1, 4],\n",
              "       [4, 0, 0, 2, 2],\n",
              "       [4, 5, 4, 3, 0],\n",
              "       [0, 3, 1, 0, 5]])"
            ]
          },
          "metadata": {},
          "execution_count": 27
        }
      ]
    },
    {
      "cell_type": "code",
      "source": [
        "#latent features\n",
        "k = 2\n",
        "\n",
        "# Number of users & movies\n",
        "num_users, num_movies = R.shape\n",
        "num_users, num_movies"
      ],
      "metadata": {
        "colab": {
          "base_uri": "https://localhost:8080/"
        },
        "id": "H-tIxIIvIZXE",
        "outputId": "4c0a0054-abbd-4847-dd39-9bfce11d8bcb"
      },
      "execution_count": null,
      "outputs": [
        {
          "output_type": "execute_result",
          "data": {
            "text/plain": [
              "(4, 5)"
            ]
          },
          "metadata": {},
          "execution_count": 28
        }
      ]
    },
    {
      "cell_type": "code",
      "source": [
        "# Randomly initialize Users and Movie Matrix\n",
        "U = np.random.rand(num_users, k)\n",
        "M = np.random.rand(num_movies, k)\n",
        "U, M"
      ],
      "metadata": {
        "colab": {
          "base_uri": "https://localhost:8080/"
        },
        "id": "nbqmFantIZZy",
        "outputId": "d6f1d3f2-5d0a-4810-c3cd-0d8b0c4e2128"
      },
      "execution_count": null,
      "outputs": [
        {
          "output_type": "execute_result",
          "data": {
            "text/plain": [
              "(array([[0.24202341, 0.2762628 ],\n",
              "        [0.10622544, 0.19228434],\n",
              "        [0.53912364, 0.1468079 ],\n",
              "        [0.69386656, 0.19807458]]),\n",
              " array([[0.77288779, 0.25721997],\n",
              "        [0.94302926, 0.05532219],\n",
              "        [0.31898713, 0.34981769],\n",
              "        [0.4788649 , 0.72218816],\n",
              "        [0.17924279, 0.3532978 ]]))"
            ]
          },
          "metadata": {},
          "execution_count": 29
        }
      ]
    },
    {
      "cell_type": "code",
      "source": [
        "V = M.transpose()\n",
        "V"
      ],
      "metadata": {
        "colab": {
          "base_uri": "https://localhost:8080/"
        },
        "id": "-_FjmmimIZcz",
        "outputId": "42b6ac91-3920-4035-f0ae-f2f78260a613"
      },
      "execution_count": null,
      "outputs": [
        {
          "output_type": "execute_result",
          "data": {
            "text/plain": [
              "array([[0.77288779, 0.94302926, 0.31898713, 0.4788649 , 0.17924279],\n",
              "       [0.25721997, 0.05532219, 0.34981769, 0.72218816, 0.3532978 ]])"
            ]
          },
          "metadata": {},
          "execution_count": 30
        }
      ]
    },
    {
      "cell_type": "code",
      "source": [
        "np.dot(U, V)"
      ],
      "metadata": {
        "colab": {
          "base_uri": "https://localhost:8080/"
        },
        "id": "jiSuISxIJ0kk",
        "outputId": "e4e142c1-5396-466a-e6ef-09e15b4c7114"
      },
      "execution_count": null,
      "outputs": [
        {
          "output_type": "execute_result",
          "data": {
            "text/plain": [
              "array([[0.25811724, 0.24351862, 0.17384397, 0.31541024, 0.14098399],\n",
              "       [0.13155972, 0.11081129, 0.10114901, 0.18973311, 0.08697378],\n",
              "       [0.454444  , 0.5165311 , 0.2233295 , 0.36419031, 0.14850093],\n",
              "       [0.58722973, 0.66529439, 0.2906245 , 0.47531546, 0.19434989]])"
            ]
          },
          "metadata": {},
          "execution_count": 31
        }
      ]
    },
    {
      "cell_type": "code",
      "source": [
        "# Hyperparameters\n",
        "num_iterations = 10000\n",
        "learning_rate = 0.01"
      ],
      "metadata": {
        "id": "PIeWtmkYKk4t"
      },
      "execution_count": null,
      "outputs": []
    },
    {
      "cell_type": "code",
      "source": [
        "# Perform matrix factorization with SGD\n",
        "for i in range(num_iterations):\n",
        "  for u in range(num_users):\n",
        "    for m in range(num_movies):\n",
        "      if R[u, m] > 0:\n",
        "        error = R[u, m] - np.dot(U[u, :], V[:, m])\n",
        "        U[u, :] += learning_rate * (2 * error * V[:, m])\n",
        "        V[:, m] += learning_rate * (2 * error * U[u, :])\n",
        "\n",
        "U, V"
      ],
      "metadata": {
        "colab": {
          "base_uri": "https://localhost:8080/"
        },
        "id": "LWqtpmofKk7b",
        "outputId": "22cf39bb-7f14-4ae2-e88e-5bf5d862ce24"
      },
      "execution_count": null,
      "outputs": [
        {
          "output_type": "execute_result",
          "data": {
            "text/plain": [
              "(array([[ 0.69279738,  1.11914133],\n",
              "        [ 0.3780887 ,  1.05708368],\n",
              "        [ 5.81123721, -0.953835  ],\n",
              "        [ 0.84528017,  1.04396103]]),\n",
              " array([[ 1.26634906,  1.17616299,  0.74629551,  0.68254205,  6.39954907],\n",
              "        [ 3.518733  ,  1.922101  ,  0.35249006,  1.02160513, -0.39215444]]))"
            ]
          },
          "metadata": {},
          "execution_count": 33
        }
      ]
    },
    {
      "cell_type": "code",
      "source": [
        "# Reconstruct Matrix R from new U & V\n",
        "R_hat = np.dot(U, V)\n",
        "R_hat"
      ],
      "metadata": {
        "colab": {
          "base_uri": "https://localhost:8080/"
        },
        "id": "4gANLKE8KlH2",
        "outputId": "ac8c7538-b437-4b57-936b-4279c0d02bba"
      },
      "execution_count": null,
      "outputs": [
        {
          "output_type": "execute_result",
          "data": {
            "text/plain": [
              "array([[ 4.81528285,  2.96594532,  0.91151777,  1.61618387,  3.99471456],\n",
              "       [ 4.19838751,  2.47651555,  0.65477739,  1.33798355,  2.00505711],\n",
              "       [ 4.00276408,  5.00159494,  4.0006829 ,  2.99197103, 37.56334829],\n",
              "       [ 4.74383987,  3.0007858 ,  0.99881468,  1.64345521,  5.000018  ]])"
            ]
          },
          "metadata": {},
          "execution_count": 34
        }
      ]
    },
    {
      "cell_type": "code",
      "source": [
        "# Display the results\n",
        "print(\"Original Rating Table:\")\n",
        "print(R)\n",
        "print(\"\\nReconstructed Rating Table:\")\n",
        "R_hat_rounded = np.clip(np.round(R_hat), 1, 5).astype(int)\n",
        "print(R_hat_rounded)"
      ],
      "metadata": {
        "colab": {
          "base_uri": "https://localhost:8080/"
        },
        "id": "3PquU3j1NdD2",
        "outputId": "680ec170-7c5e-47a1-f11f-927b1e86c544"
      },
      "execution_count": null,
      "outputs": [
        {
          "output_type": "stream",
          "name": "stdout",
          "text": [
            "Original Rating Table:\n",
            "[[5 3 0 1 4]\n",
            " [4 0 0 2 2]\n",
            " [4 5 4 3 0]\n",
            " [0 3 1 0 5]]\n",
            "\n",
            "Reconstructed Rating Table:\n",
            "[[5 3 1 2 4]\n",
            " [4 2 1 1 2]\n",
            " [4 5 4 3 5]\n",
            " [5 3 1 2 5]]\n"
          ]
        }
      ]
    },
    {
      "cell_type": "code",
      "source": [
        "\n",
        "# Print original matrix with highlighted 0 values\n",
        "print(\"Original Matrix: \")\n",
        "for row_idx, row in enumerate(R):\n",
        "    for col_idx, val in enumerate(row):\n",
        "        if val == 0:\n",
        "            print('\\033[91m' + str(val) + '\\033[0m', end=' ')  # Print in red color\n",
        "        else:\n",
        "            print(val, end=' ')\n",
        "    print()  # Newline for next row\n",
        "\n",
        "# Print predicted matrix with highlighted predicted values\n",
        "print(\"Predicted Matrix: \")\n",
        "for row_idx, row in enumerate(R_hat_rounded):\n",
        "    for col_idx, val in enumerate(row):\n",
        "        if R[row_idx, col_idx] == 0:  # If original value is 0\n",
        "            print('\\033[92m' + str(val) + '\\033[0m', end=' ')  # Print predicted value in green color\n",
        "        else:\n",
        "            print(val, end=' ')  # Print predicted value\n",
        "    print()  # Newline for next row\n"
      ],
      "metadata": {
        "colab": {
          "base_uri": "https://localhost:8080/"
        },
        "id": "YU8ikelHNdHg",
        "outputId": "75c0a471-e8d2-4e4b-f940-a2a059abe206"
      },
      "execution_count": null,
      "outputs": [
        {
          "output_type": "stream",
          "name": "stdout",
          "text": [
            "Original Matrix: \n",
            "5 3 \u001b[91m0\u001b[0m 1 4 \n",
            "4 \u001b[91m0\u001b[0m \u001b[91m0\u001b[0m 2 2 \n",
            "4 5 4 3 \u001b[91m0\u001b[0m \n",
            "\u001b[91m0\u001b[0m 3 1 \u001b[91m0\u001b[0m 5 \n",
            "Predicted Matrix: \n",
            "5 3 \u001b[92m1\u001b[0m 2 4 \n",
            "4 \u001b[92m2\u001b[0m \u001b[92m1\u001b[0m 1 2 \n",
            "4 5 4 3 \u001b[92m5\u001b[0m \n",
            "\u001b[92m5\u001b[0m 3 1 \u001b[92m2\u001b[0m 5 \n"
          ]
        }
      ]
    },
    {
      "cell_type": "code",
      "source": [],
      "metadata": {
        "id": "vJbUohooNdRM"
      },
      "execution_count": null,
      "outputs": []
    }
  ]
}