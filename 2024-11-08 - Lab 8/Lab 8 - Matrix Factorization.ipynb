{
  "nbformat": 4,
  "nbformat_minor": 0,
  "metadata": {
    "colab": {
      "provenance": []
    },
    "kernelspec": {
      "name": "python3",
      "display_name": "Python 3"
    },
    "language_info": {
      "name": "python"
    }
  },
  "cells": [
    {
      "cell_type": "code",
      "execution_count": 1,
      "metadata": {
        "id": "2tj9NhI5H5p7"
      },
      "outputs": [],
      "source": [
        "import numpy as np"
      ]
    },
    {
      "cell_type": "code",
      "source": [
        "# Create rating table\n",
        "R = np.array([\n",
        "    [5, 3, 0, 1, 4],\n",
        "    [4, 0, 0, 2, 2],\n",
        "    [4, 5, 4, 3, 0],\n",
        "    [0, 3, 1, 0, 5]\n",
        "])\n",
        "\n",
        "R"
      ],
      "metadata": {
        "colab": {
          "base_uri": "https://localhost:8080/"
        },
        "id": "i7z2QeLMIZTx",
        "outputId": "3d504cd3-afec-4dcc-b099-73a04ee42b65"
      },
      "execution_count": 2,
      "outputs": [
        {
          "output_type": "execute_result",
          "data": {
            "text/plain": [
              "array([[5, 3, 0, 1, 4],\n",
              "       [4, 0, 0, 2, 2],\n",
              "       [4, 5, 4, 3, 0],\n",
              "       [0, 3, 1, 0, 5]])"
            ]
          },
          "metadata": {},
          "execution_count": 2
        }
      ]
    },
    {
      "cell_type": "code",
      "source": [
        "#latent features\n",
        "k = 2\n",
        "\n",
        "# Number of users & movies\n",
        "num_users, num_movies = R.shape\n",
        "num_users, num_movies"
      ],
      "metadata": {
        "colab": {
          "base_uri": "https://localhost:8080/"
        },
        "id": "H-tIxIIvIZXE",
        "outputId": "07bf62db-0a6b-481f-b322-e4df3db0a4ff"
      },
      "execution_count": 3,
      "outputs": [
        {
          "output_type": "execute_result",
          "data": {
            "text/plain": [
              "(4, 5)"
            ]
          },
          "metadata": {},
          "execution_count": 3
        }
      ]
    },
    {
      "cell_type": "code",
      "source": [
        "# Randomly initialize Users and Movie Matrix\n",
        "U = np.random.rand(num_users, k)\n",
        "M = np.random.rand(num_movies, k)\n",
        "U, M"
      ],
      "metadata": {
        "colab": {
          "base_uri": "https://localhost:8080/"
        },
        "id": "nbqmFantIZZy",
        "outputId": "f67e96dc-abb8-4f07-81af-3cf5cf5ce215"
      },
      "execution_count": 4,
      "outputs": [
        {
          "output_type": "execute_result",
          "data": {
            "text/plain": [
              "(array([[0.263423  , 0.70426661],\n",
              "        [0.83940214, 0.48501468],\n",
              "        [0.01955906, 0.11263134],\n",
              "        [0.90758998, 0.27090096]]),\n",
              " array([[0.56888766, 0.35091158],\n",
              "        [0.23974734, 0.48114909],\n",
              "        [0.32850445, 0.00068152],\n",
              "        [0.64762952, 0.28462607],\n",
              "        [0.23290315, 0.51899164]]))"
            ]
          },
          "metadata": {},
          "execution_count": 4
        }
      ]
    },
    {
      "cell_type": "code",
      "source": [
        "V = M.transpose()\n",
        "V"
      ],
      "metadata": {
        "colab": {
          "base_uri": "https://localhost:8080/"
        },
        "id": "-_FjmmimIZcz",
        "outputId": "335926d0-ba3d-49df-a5be-0a064ec2044f"
      },
      "execution_count": 5,
      "outputs": [
        {
          "output_type": "execute_result",
          "data": {
            "text/plain": [
              "array([[0.56888766, 0.23974734, 0.32850445, 0.64762952, 0.23290315],\n",
              "       [0.35091158, 0.48114909, 0.00068152, 0.28462607, 0.51899164]])"
            ]
          },
          "metadata": {},
          "execution_count": 5
        }
      ]
    },
    {
      "cell_type": "code",
      "source": [
        "np.dot(U, V)"
      ],
      "metadata": {
        "colab": {
          "base_uri": "https://localhost:8080/"
        },
        "id": "jiSuISxIJ0kk",
        "outputId": "b06f1552-33b1-49e5-e298-38aade1b9c88"
      },
      "execution_count": 6,
      "outputs": [
        {
          "output_type": "execute_result",
          "data": {
            "text/plain": [
              "array([[0.3969934 , 0.4020122 , 0.0870156 , 0.37105315, 0.42686053],\n",
              "       [0.64772278, 0.43460879, 0.27607788, 0.68166942, 0.44721796],\n",
              "       [0.05065055, 0.0588817 , 0.006502  , 0.04472484, 0.06301009],\n",
              "       [0.61137902, 0.34793603, 0.29833197, 0.66488754, 0.3519759 ]])"
            ]
          },
          "metadata": {},
          "execution_count": 6
        }
      ]
    },
    {
      "cell_type": "code",
      "source": [
        "# Hyperparameters\n",
        "num_iterations = 10000\n",
        "learning_rate = 0.01"
      ],
      "metadata": {
        "id": "PIeWtmkYKk4t"
      },
      "execution_count": 7,
      "outputs": []
    },
    {
      "cell_type": "code",
      "source": [
        "# Perform matrix factorization with SGD\n",
        "for i in range(num_iterations):\n",
        "  for u in range(num_users):\n",
        "    for m in range(num_movies):\n",
        "      if R[u, m] > 0:\n",
        "        error = R[u, m] - np.dot(U[u, :], V[:, m])\n",
        "        U[u, :] += learning_rate * (2 * error * V[:, m])\n",
        "        V[:, m] += learning_rate * (2 * error * U[u, :])\n",
        "\n",
        "U, V"
      ],
      "metadata": {
        "colab": {
          "base_uri": "https://localhost:8080/"
        },
        "id": "LWqtpmofKk7b",
        "outputId": "22561339-bab9-43ea-9ec2-2eefb330c1c6"
      },
      "execution_count": 8,
      "outputs": [
        {
          "output_type": "execute_result",
          "data": {
            "text/plain": [
              "(array([[0.76933968, 1.78189008],\n",
              "        [1.61329715, 0.76515892],\n",
              "        [2.44481831, 0.21486463],\n",
              "        [0.56417754, 2.26805811]]),\n",
              " array([[1.4443097 , 1.97200475, 1.63306533, 1.22421642, 0.22009329],\n",
              "        [2.18242151, 0.83218292, 0.03468219, 0.03264047, 2.14978104]]))"
            ]
          },
          "metadata": {},
          "execution_count": 8
        }
      ]
    },
    {
      "cell_type": "code",
      "source": [
        "# Reconstruct Matrix R from new U & V\n",
        "R_hat = np.dot(U, V)\n",
        "R_hat"
      ],
      "metadata": {
        "colab": {
          "base_uri": "https://localhost:8080/"
        },
        "id": "4gANLKE8KlH2",
        "outputId": "e2ca779b-4e16-40b6-d577-a26f7bc84fd4"
      },
      "execution_count": 9,
      "outputs": [
        {
          "output_type": "execute_result",
          "data": {
            "text/plain": [
              "array([[5.        , 3.        , 1.31818182, 1.        , 4.        ],\n",
              "       [4.        , 3.81818182, 2.66115702, 2.        , 2.        ],\n",
              "       [4.        , 5.        , 4.        , 3.        , 1.        ],\n",
              "       [5.76470588, 3.        , 1.        , 0.76470588, 5.        ]])"
            ]
          },
          "metadata": {},
          "execution_count": 9
        }
      ]
    },
    {
      "cell_type": "code",
      "source": [
        "# Display the results\n",
        "print(\"Original Rating Table:\")\n",
        "print(R)\n",
        "print(\"\\nReconstructed Rating Table:\")\n",
        "R_hat_rounded1 = np.clip(np.round(R_hat), 1, 5).astype(int)\n",
        "print(R_hat_rounded1)"
      ],
      "metadata": {
        "colab": {
          "base_uri": "https://localhost:8080/"
        },
        "id": "3PquU3j1NdD2",
        "outputId": "5e8ec73e-730a-4332-a18c-cf8a9df44d9f"
      },
      "execution_count": 10,
      "outputs": [
        {
          "output_type": "stream",
          "name": "stdout",
          "text": [
            "Original Rating Table:\n",
            "[[5 3 0 1 4]\n",
            " [4 0 0 2 2]\n",
            " [4 5 4 3 0]\n",
            " [0 3 1 0 5]]\n",
            "\n",
            "Reconstructed Rating Table:\n",
            "[[5 3 1 1 4]\n",
            " [4 4 3 2 2]\n",
            " [4 5 4 3 1]\n",
            " [5 3 1 1 5]]\n"
          ]
        }
      ]
    },
    {
      "cell_type": "code",
      "source": [
        "# Print original matrix with highlighted 0 values\n",
        "print(\"Original Matrix: \")\n",
        "for row_idx, row in enumerate(R):\n",
        "    for col_idx, val in enumerate(row):\n",
        "        if val == 0:\n",
        "            print('\\033[91m' + str(val) + '\\033[0m', end=' ')  # Print in red color\n",
        "        else:\n",
        "            print(val, end=' ')\n",
        "    print()  # Newline for next row\n",
        "\n",
        "# Print predicted matrix with highlighted predicted values\n",
        "print(\"Predicted Matrix: \")\n",
        "for row_idx, row in enumerate(R_hat_rounded1):\n",
        "    for col_idx, val in enumerate(row):\n",
        "        if R[row_idx, col_idx] == 0:  # If original value is 0\n",
        "            print('\\033[92m' + str(val) + '\\033[0m', end=' ')  # Print predicted value in green color\n",
        "        else:\n",
        "            print(val, end=' ')  # Print predicted value\n",
        "    print()  # Newline for next row\n"
      ],
      "metadata": {
        "colab": {
          "base_uri": "https://localhost:8080/"
        },
        "id": "YU8ikelHNdHg",
        "outputId": "9c548d8c-94aa-4eb6-fd93-705cfc5d4cee"
      },
      "execution_count": 11,
      "outputs": [
        {
          "output_type": "stream",
          "name": "stdout",
          "text": [
            "Original Matrix: \n",
            "5 3 \u001b[91m0\u001b[0m 1 4 \n",
            "4 \u001b[91m0\u001b[0m \u001b[91m0\u001b[0m 2 2 \n",
            "4 5 4 3 \u001b[91m0\u001b[0m \n",
            "\u001b[91m0\u001b[0m 3 1 \u001b[91m0\u001b[0m 5 \n",
            "Predicted Matrix: \n",
            "5 3 \u001b[92m1\u001b[0m 1 4 \n",
            "4 \u001b[92m4\u001b[0m \u001b[92m3\u001b[0m 2 2 \n",
            "4 5 4 3 \u001b[92m1\u001b[0m \n",
            "\u001b[92m5\u001b[0m 3 1 \u001b[92m1\u001b[0m 5 \n"
          ]
        }
      ]
    },
    {
      "cell_type": "markdown",
      "source": [
        "### Scikit-Learn - Non-Negative Matrix Factorization"
      ],
      "metadata": {
        "id": "rLdUxMvMIwMZ"
      }
    },
    {
      "cell_type": "code",
      "source": [
        "from sklearn.decomposition import NMF"
      ],
      "metadata": {
        "id": "Mlsnlbk3IvRV"
      },
      "execution_count": 12,
      "outputs": []
    },
    {
      "cell_type": "code",
      "source": [
        "# Initialize NMF Model.\n",
        "model = NMF(n_components = 2, init = 'random', random_state = 0)\n",
        "model.fit(R)"
      ],
      "metadata": {
        "colab": {
          "base_uri": "https://localhost:8080/",
          "height": 80
        },
        "id": "BAc-Ul-lI3c2",
        "outputId": "bdc4e7c9-358e-4965-d1ce-2ff6d64feba1"
      },
      "execution_count": 13,
      "outputs": [
        {
          "output_type": "execute_result",
          "data": {
            "text/plain": [
              "NMF(init='random', n_components=2, random_state=0)"
            ],
            "text/html": [
              "<style>#sk-container-id-1 {\n",
              "  /* Definition of color scheme common for light and dark mode */\n",
              "  --sklearn-color-text: black;\n",
              "  --sklearn-color-line: gray;\n",
              "  /* Definition of color scheme for unfitted estimators */\n",
              "  --sklearn-color-unfitted-level-0: #fff5e6;\n",
              "  --sklearn-color-unfitted-level-1: #f6e4d2;\n",
              "  --sklearn-color-unfitted-level-2: #ffe0b3;\n",
              "  --sklearn-color-unfitted-level-3: chocolate;\n",
              "  /* Definition of color scheme for fitted estimators */\n",
              "  --sklearn-color-fitted-level-0: #f0f8ff;\n",
              "  --sklearn-color-fitted-level-1: #d4ebff;\n",
              "  --sklearn-color-fitted-level-2: #b3dbfd;\n",
              "  --sklearn-color-fitted-level-3: cornflowerblue;\n",
              "\n",
              "  /* Specific color for light theme */\n",
              "  --sklearn-color-text-on-default-background: var(--sg-text-color, var(--theme-code-foreground, var(--jp-content-font-color1, black)));\n",
              "  --sklearn-color-background: var(--sg-background-color, var(--theme-background, var(--jp-layout-color0, white)));\n",
              "  --sklearn-color-border-box: var(--sg-text-color, var(--theme-code-foreground, var(--jp-content-font-color1, black)));\n",
              "  --sklearn-color-icon: #696969;\n",
              "\n",
              "  @media (prefers-color-scheme: dark) {\n",
              "    /* Redefinition of color scheme for dark theme */\n",
              "    --sklearn-color-text-on-default-background: var(--sg-text-color, var(--theme-code-foreground, var(--jp-content-font-color1, white)));\n",
              "    --sklearn-color-background: var(--sg-background-color, var(--theme-background, var(--jp-layout-color0, #111)));\n",
              "    --sklearn-color-border-box: var(--sg-text-color, var(--theme-code-foreground, var(--jp-content-font-color1, white)));\n",
              "    --sklearn-color-icon: #878787;\n",
              "  }\n",
              "}\n",
              "\n",
              "#sk-container-id-1 {\n",
              "  color: var(--sklearn-color-text);\n",
              "}\n",
              "\n",
              "#sk-container-id-1 pre {\n",
              "  padding: 0;\n",
              "}\n",
              "\n",
              "#sk-container-id-1 input.sk-hidden--visually {\n",
              "  border: 0;\n",
              "  clip: rect(1px 1px 1px 1px);\n",
              "  clip: rect(1px, 1px, 1px, 1px);\n",
              "  height: 1px;\n",
              "  margin: -1px;\n",
              "  overflow: hidden;\n",
              "  padding: 0;\n",
              "  position: absolute;\n",
              "  width: 1px;\n",
              "}\n",
              "\n",
              "#sk-container-id-1 div.sk-dashed-wrapped {\n",
              "  border: 1px dashed var(--sklearn-color-line);\n",
              "  margin: 0 0.4em 0.5em 0.4em;\n",
              "  box-sizing: border-box;\n",
              "  padding-bottom: 0.4em;\n",
              "  background-color: var(--sklearn-color-background);\n",
              "}\n",
              "\n",
              "#sk-container-id-1 div.sk-container {\n",
              "  /* jupyter's `normalize.less` sets `[hidden] { display: none; }`\n",
              "     but bootstrap.min.css set `[hidden] { display: none !important; }`\n",
              "     so we also need the `!important` here to be able to override the\n",
              "     default hidden behavior on the sphinx rendered scikit-learn.org.\n",
              "     See: https://github.com/scikit-learn/scikit-learn/issues/21755 */\n",
              "  display: inline-block !important;\n",
              "  position: relative;\n",
              "}\n",
              "\n",
              "#sk-container-id-1 div.sk-text-repr-fallback {\n",
              "  display: none;\n",
              "}\n",
              "\n",
              "div.sk-parallel-item,\n",
              "div.sk-serial,\n",
              "div.sk-item {\n",
              "  /* draw centered vertical line to link estimators */\n",
              "  background-image: linear-gradient(var(--sklearn-color-text-on-default-background), var(--sklearn-color-text-on-default-background));\n",
              "  background-size: 2px 100%;\n",
              "  background-repeat: no-repeat;\n",
              "  background-position: center center;\n",
              "}\n",
              "\n",
              "/* Parallel-specific style estimator block */\n",
              "\n",
              "#sk-container-id-1 div.sk-parallel-item::after {\n",
              "  content: \"\";\n",
              "  width: 100%;\n",
              "  border-bottom: 2px solid var(--sklearn-color-text-on-default-background);\n",
              "  flex-grow: 1;\n",
              "}\n",
              "\n",
              "#sk-container-id-1 div.sk-parallel {\n",
              "  display: flex;\n",
              "  align-items: stretch;\n",
              "  justify-content: center;\n",
              "  background-color: var(--sklearn-color-background);\n",
              "  position: relative;\n",
              "}\n",
              "\n",
              "#sk-container-id-1 div.sk-parallel-item {\n",
              "  display: flex;\n",
              "  flex-direction: column;\n",
              "}\n",
              "\n",
              "#sk-container-id-1 div.sk-parallel-item:first-child::after {\n",
              "  align-self: flex-end;\n",
              "  width: 50%;\n",
              "}\n",
              "\n",
              "#sk-container-id-1 div.sk-parallel-item:last-child::after {\n",
              "  align-self: flex-start;\n",
              "  width: 50%;\n",
              "}\n",
              "\n",
              "#sk-container-id-1 div.sk-parallel-item:only-child::after {\n",
              "  width: 0;\n",
              "}\n",
              "\n",
              "/* Serial-specific style estimator block */\n",
              "\n",
              "#sk-container-id-1 div.sk-serial {\n",
              "  display: flex;\n",
              "  flex-direction: column;\n",
              "  align-items: center;\n",
              "  background-color: var(--sklearn-color-background);\n",
              "  padding-right: 1em;\n",
              "  padding-left: 1em;\n",
              "}\n",
              "\n",
              "\n",
              "/* Toggleable style: style used for estimator/Pipeline/ColumnTransformer box that is\n",
              "clickable and can be expanded/collapsed.\n",
              "- Pipeline and ColumnTransformer use this feature and define the default style\n",
              "- Estimators will overwrite some part of the style using the `sk-estimator` class\n",
              "*/\n",
              "\n",
              "/* Pipeline and ColumnTransformer style (default) */\n",
              "\n",
              "#sk-container-id-1 div.sk-toggleable {\n",
              "  /* Default theme specific background. It is overwritten whether we have a\n",
              "  specific estimator or a Pipeline/ColumnTransformer */\n",
              "  background-color: var(--sklearn-color-background);\n",
              "}\n",
              "\n",
              "/* Toggleable label */\n",
              "#sk-container-id-1 label.sk-toggleable__label {\n",
              "  cursor: pointer;\n",
              "  display: block;\n",
              "  width: 100%;\n",
              "  margin-bottom: 0;\n",
              "  padding: 0.5em;\n",
              "  box-sizing: border-box;\n",
              "  text-align: center;\n",
              "}\n",
              "\n",
              "#sk-container-id-1 label.sk-toggleable__label-arrow:before {\n",
              "  /* Arrow on the left of the label */\n",
              "  content: \"▸\";\n",
              "  float: left;\n",
              "  margin-right: 0.25em;\n",
              "  color: var(--sklearn-color-icon);\n",
              "}\n",
              "\n",
              "#sk-container-id-1 label.sk-toggleable__label-arrow:hover:before {\n",
              "  color: var(--sklearn-color-text);\n",
              "}\n",
              "\n",
              "/* Toggleable content - dropdown */\n",
              "\n",
              "#sk-container-id-1 div.sk-toggleable__content {\n",
              "  max-height: 0;\n",
              "  max-width: 0;\n",
              "  overflow: hidden;\n",
              "  text-align: left;\n",
              "  /* unfitted */\n",
              "  background-color: var(--sklearn-color-unfitted-level-0);\n",
              "}\n",
              "\n",
              "#sk-container-id-1 div.sk-toggleable__content.fitted {\n",
              "  /* fitted */\n",
              "  background-color: var(--sklearn-color-fitted-level-0);\n",
              "}\n",
              "\n",
              "#sk-container-id-1 div.sk-toggleable__content pre {\n",
              "  margin: 0.2em;\n",
              "  border-radius: 0.25em;\n",
              "  color: var(--sklearn-color-text);\n",
              "  /* unfitted */\n",
              "  background-color: var(--sklearn-color-unfitted-level-0);\n",
              "}\n",
              "\n",
              "#sk-container-id-1 div.sk-toggleable__content.fitted pre {\n",
              "  /* unfitted */\n",
              "  background-color: var(--sklearn-color-fitted-level-0);\n",
              "}\n",
              "\n",
              "#sk-container-id-1 input.sk-toggleable__control:checked~div.sk-toggleable__content {\n",
              "  /* Expand drop-down */\n",
              "  max-height: 200px;\n",
              "  max-width: 100%;\n",
              "  overflow: auto;\n",
              "}\n",
              "\n",
              "#sk-container-id-1 input.sk-toggleable__control:checked~label.sk-toggleable__label-arrow:before {\n",
              "  content: \"▾\";\n",
              "}\n",
              "\n",
              "/* Pipeline/ColumnTransformer-specific style */\n",
              "\n",
              "#sk-container-id-1 div.sk-label input.sk-toggleable__control:checked~label.sk-toggleable__label {\n",
              "  color: var(--sklearn-color-text);\n",
              "  background-color: var(--sklearn-color-unfitted-level-2);\n",
              "}\n",
              "\n",
              "#sk-container-id-1 div.sk-label.fitted input.sk-toggleable__control:checked~label.sk-toggleable__label {\n",
              "  background-color: var(--sklearn-color-fitted-level-2);\n",
              "}\n",
              "\n",
              "/* Estimator-specific style */\n",
              "\n",
              "/* Colorize estimator box */\n",
              "#sk-container-id-1 div.sk-estimator input.sk-toggleable__control:checked~label.sk-toggleable__label {\n",
              "  /* unfitted */\n",
              "  background-color: var(--sklearn-color-unfitted-level-2);\n",
              "}\n",
              "\n",
              "#sk-container-id-1 div.sk-estimator.fitted input.sk-toggleable__control:checked~label.sk-toggleable__label {\n",
              "  /* fitted */\n",
              "  background-color: var(--sklearn-color-fitted-level-2);\n",
              "}\n",
              "\n",
              "#sk-container-id-1 div.sk-label label.sk-toggleable__label,\n",
              "#sk-container-id-1 div.sk-label label {\n",
              "  /* The background is the default theme color */\n",
              "  color: var(--sklearn-color-text-on-default-background);\n",
              "}\n",
              "\n",
              "/* On hover, darken the color of the background */\n",
              "#sk-container-id-1 div.sk-label:hover label.sk-toggleable__label {\n",
              "  color: var(--sklearn-color-text);\n",
              "  background-color: var(--sklearn-color-unfitted-level-2);\n",
              "}\n",
              "\n",
              "/* Label box, darken color on hover, fitted */\n",
              "#sk-container-id-1 div.sk-label.fitted:hover label.sk-toggleable__label.fitted {\n",
              "  color: var(--sklearn-color-text);\n",
              "  background-color: var(--sklearn-color-fitted-level-2);\n",
              "}\n",
              "\n",
              "/* Estimator label */\n",
              "\n",
              "#sk-container-id-1 div.sk-label label {\n",
              "  font-family: monospace;\n",
              "  font-weight: bold;\n",
              "  display: inline-block;\n",
              "  line-height: 1.2em;\n",
              "}\n",
              "\n",
              "#sk-container-id-1 div.sk-label-container {\n",
              "  text-align: center;\n",
              "}\n",
              "\n",
              "/* Estimator-specific */\n",
              "#sk-container-id-1 div.sk-estimator {\n",
              "  font-family: monospace;\n",
              "  border: 1px dotted var(--sklearn-color-border-box);\n",
              "  border-radius: 0.25em;\n",
              "  box-sizing: border-box;\n",
              "  margin-bottom: 0.5em;\n",
              "  /* unfitted */\n",
              "  background-color: var(--sklearn-color-unfitted-level-0);\n",
              "}\n",
              "\n",
              "#sk-container-id-1 div.sk-estimator.fitted {\n",
              "  /* fitted */\n",
              "  background-color: var(--sklearn-color-fitted-level-0);\n",
              "}\n",
              "\n",
              "/* on hover */\n",
              "#sk-container-id-1 div.sk-estimator:hover {\n",
              "  /* unfitted */\n",
              "  background-color: var(--sklearn-color-unfitted-level-2);\n",
              "}\n",
              "\n",
              "#sk-container-id-1 div.sk-estimator.fitted:hover {\n",
              "  /* fitted */\n",
              "  background-color: var(--sklearn-color-fitted-level-2);\n",
              "}\n",
              "\n",
              "/* Specification for estimator info (e.g. \"i\" and \"?\") */\n",
              "\n",
              "/* Common style for \"i\" and \"?\" */\n",
              "\n",
              ".sk-estimator-doc-link,\n",
              "a:link.sk-estimator-doc-link,\n",
              "a:visited.sk-estimator-doc-link {\n",
              "  float: right;\n",
              "  font-size: smaller;\n",
              "  line-height: 1em;\n",
              "  font-family: monospace;\n",
              "  background-color: var(--sklearn-color-background);\n",
              "  border-radius: 1em;\n",
              "  height: 1em;\n",
              "  width: 1em;\n",
              "  text-decoration: none !important;\n",
              "  margin-left: 1ex;\n",
              "  /* unfitted */\n",
              "  border: var(--sklearn-color-unfitted-level-1) 1pt solid;\n",
              "  color: var(--sklearn-color-unfitted-level-1);\n",
              "}\n",
              "\n",
              ".sk-estimator-doc-link.fitted,\n",
              "a:link.sk-estimator-doc-link.fitted,\n",
              "a:visited.sk-estimator-doc-link.fitted {\n",
              "  /* fitted */\n",
              "  border: var(--sklearn-color-fitted-level-1) 1pt solid;\n",
              "  color: var(--sklearn-color-fitted-level-1);\n",
              "}\n",
              "\n",
              "/* On hover */\n",
              "div.sk-estimator:hover .sk-estimator-doc-link:hover,\n",
              ".sk-estimator-doc-link:hover,\n",
              "div.sk-label-container:hover .sk-estimator-doc-link:hover,\n",
              ".sk-estimator-doc-link:hover {\n",
              "  /* unfitted */\n",
              "  background-color: var(--sklearn-color-unfitted-level-3);\n",
              "  color: var(--sklearn-color-background);\n",
              "  text-decoration: none;\n",
              "}\n",
              "\n",
              "div.sk-estimator.fitted:hover .sk-estimator-doc-link.fitted:hover,\n",
              ".sk-estimator-doc-link.fitted:hover,\n",
              "div.sk-label-container:hover .sk-estimator-doc-link.fitted:hover,\n",
              ".sk-estimator-doc-link.fitted:hover {\n",
              "  /* fitted */\n",
              "  background-color: var(--sklearn-color-fitted-level-3);\n",
              "  color: var(--sklearn-color-background);\n",
              "  text-decoration: none;\n",
              "}\n",
              "\n",
              "/* Span, style for the box shown on hovering the info icon */\n",
              ".sk-estimator-doc-link span {\n",
              "  display: none;\n",
              "  z-index: 9999;\n",
              "  position: relative;\n",
              "  font-weight: normal;\n",
              "  right: .2ex;\n",
              "  padding: .5ex;\n",
              "  margin: .5ex;\n",
              "  width: min-content;\n",
              "  min-width: 20ex;\n",
              "  max-width: 50ex;\n",
              "  color: var(--sklearn-color-text);\n",
              "  box-shadow: 2pt 2pt 4pt #999;\n",
              "  /* unfitted */\n",
              "  background: var(--sklearn-color-unfitted-level-0);\n",
              "  border: .5pt solid var(--sklearn-color-unfitted-level-3);\n",
              "}\n",
              "\n",
              ".sk-estimator-doc-link.fitted span {\n",
              "  /* fitted */\n",
              "  background: var(--sklearn-color-fitted-level-0);\n",
              "  border: var(--sklearn-color-fitted-level-3);\n",
              "}\n",
              "\n",
              ".sk-estimator-doc-link:hover span {\n",
              "  display: block;\n",
              "}\n",
              "\n",
              "/* \"?\"-specific style due to the `<a>` HTML tag */\n",
              "\n",
              "#sk-container-id-1 a.estimator_doc_link {\n",
              "  float: right;\n",
              "  font-size: 1rem;\n",
              "  line-height: 1em;\n",
              "  font-family: monospace;\n",
              "  background-color: var(--sklearn-color-background);\n",
              "  border-radius: 1rem;\n",
              "  height: 1rem;\n",
              "  width: 1rem;\n",
              "  text-decoration: none;\n",
              "  /* unfitted */\n",
              "  color: var(--sklearn-color-unfitted-level-1);\n",
              "  border: var(--sklearn-color-unfitted-level-1) 1pt solid;\n",
              "}\n",
              "\n",
              "#sk-container-id-1 a.estimator_doc_link.fitted {\n",
              "  /* fitted */\n",
              "  border: var(--sklearn-color-fitted-level-1) 1pt solid;\n",
              "  color: var(--sklearn-color-fitted-level-1);\n",
              "}\n",
              "\n",
              "/* On hover */\n",
              "#sk-container-id-1 a.estimator_doc_link:hover {\n",
              "  /* unfitted */\n",
              "  background-color: var(--sklearn-color-unfitted-level-3);\n",
              "  color: var(--sklearn-color-background);\n",
              "  text-decoration: none;\n",
              "}\n",
              "\n",
              "#sk-container-id-1 a.estimator_doc_link.fitted:hover {\n",
              "  /* fitted */\n",
              "  background-color: var(--sklearn-color-fitted-level-3);\n",
              "}\n",
              "</style><div id=\"sk-container-id-1\" class=\"sk-top-container\"><div class=\"sk-text-repr-fallback\"><pre>NMF(init=&#x27;random&#x27;, n_components=2, random_state=0)</pre><b>In a Jupyter environment, please rerun this cell to show the HTML representation or trust the notebook. <br />On GitHub, the HTML representation is unable to render, please try loading this page with nbviewer.org.</b></div><div class=\"sk-container\" hidden><div class=\"sk-item\"><div class=\"sk-estimator fitted sk-toggleable\"><input class=\"sk-toggleable__control sk-hidden--visually\" id=\"sk-estimator-id-1\" type=\"checkbox\" checked><label for=\"sk-estimator-id-1\" class=\"sk-toggleable__label fitted sk-toggleable__label-arrow fitted\">&nbsp;&nbsp;NMF<a class=\"sk-estimator-doc-link fitted\" rel=\"noreferrer\" target=\"_blank\" href=\"https://scikit-learn.org/1.5/modules/generated/sklearn.decomposition.NMF.html\">?<span>Documentation for NMF</span></a><span class=\"sk-estimator-doc-link fitted\">i<span>Fitted</span></span></label><div class=\"sk-toggleable__content fitted\"><pre>NMF(init=&#x27;random&#x27;, n_components=2, random_state=0)</pre></div> </div></div></div></div>"
            ]
          },
          "metadata": {},
          "execution_count": 13
        }
      ]
    },
    {
      "cell_type": "code",
      "source": [
        "# Reconstruct the rating matrix\n",
        "R_hat = model.transform(R) @ model.components_\n",
        "R_hat"
      ],
      "metadata": {
        "colab": {
          "base_uri": "https://localhost:8080/"
        },
        "id": "4ntv8lRnJDKB",
        "outputId": "0ffa4a31-d10d-4ec3-ae08-ac312dfb1c8a"
      },
      "execution_count": 14,
      "outputs": [
        {
          "output_type": "execute_result",
          "data": {
            "text/plain": [
              "array([[3.71042775, 3.33876191, 1.22397216, 1.31418345, 4.39659625],\n",
              "       [2.28188978, 2.02592476, 0.959089  , 0.98900915, 1.9468325 ],\n",
              "       [4.99018785, 4.2763752 , 3.25788743, 3.1795794 , 0.        ],\n",
              "       [1.9402299 , 1.83084328, 0.        , 0.12644757, 4.64710542]])"
            ]
          },
          "metadata": {},
          "execution_count": 14
        }
      ]
    },
    {
      "cell_type": "code",
      "source": [
        "R_hat_rounded2 = np.clip(np.round(R_hat), 1, 5).astype(int)\n",
        "R_hat_rounded2"
      ],
      "metadata": {
        "colab": {
          "base_uri": "https://localhost:8080/"
        },
        "id": "RdO4nxUrJUxE",
        "outputId": "dce95fab-b3f2-459b-8846-5ed1c3ebf74e"
      },
      "execution_count": 15,
      "outputs": [
        {
          "output_type": "execute_result",
          "data": {
            "text/plain": [
              "array([[4, 3, 1, 1, 4],\n",
              "       [2, 2, 1, 1, 2],\n",
              "       [5, 4, 3, 3, 1],\n",
              "       [2, 2, 1, 1, 5]])"
            ]
          },
          "metadata": {},
          "execution_count": 15
        }
      ]
    },
    {
      "cell_type": "code",
      "source": [
        "# Print original matrix with highlighted 0 values\n",
        "print(\"Original Matrix: \")\n",
        "for row_idx, row in enumerate(R):\n",
        "    for col_idx, val in enumerate(row):\n",
        "        if val == 0:\n",
        "            print('\\033[91m' + str(val) + '\\033[0m', end=' ')  # Print in red color\n",
        "        else:\n",
        "            print(val, end=' ')\n",
        "    print()  # Newline for next row\n",
        "\n",
        "# Print predicted matrix with highlighted predicted values\n",
        "print(\"Predicted Matrix: \")\n",
        "for row_idx, row in enumerate(R_hat_rounded2):\n",
        "    for col_idx, val in enumerate(row):\n",
        "        if R[row_idx, col_idx] == 0:  # If original value is 0\n",
        "            print('\\033[92m' + str(val) + '\\033[0m', end=' ')  # Print predicted value in green color\n",
        "        else:\n",
        "            print(val, end=' ')  # Print predicted value\n",
        "    print()  # Newline for next row"
      ],
      "metadata": {
        "colab": {
          "base_uri": "https://localhost:8080/"
        },
        "id": "TGyZCLaQJX_2",
        "outputId": "cc86a85d-8f1b-45e2-b8e0-00defd9f2875"
      },
      "execution_count": 16,
      "outputs": [
        {
          "output_type": "stream",
          "name": "stdout",
          "text": [
            "Original Matrix: \n",
            "5 3 \u001b[91m0\u001b[0m 1 4 \n",
            "4 \u001b[91m0\u001b[0m \u001b[91m0\u001b[0m 2 2 \n",
            "4 5 4 3 \u001b[91m0\u001b[0m \n",
            "\u001b[91m0\u001b[0m 3 1 \u001b[91m0\u001b[0m 5 \n",
            "Predicted Matrix: \n",
            "4 3 \u001b[92m1\u001b[0m 1 4 \n",
            "2 \u001b[92m2\u001b[0m \u001b[92m1\u001b[0m 1 2 \n",
            "5 4 3 3 \u001b[92m1\u001b[0m \n",
            "\u001b[92m2\u001b[0m 2 1 \u001b[92m1\u001b[0m 5 \n"
          ]
        }
      ]
    },
    {
      "cell_type": "code",
      "source": [
        "# Print predicted matrix with highlighted predicted values\n",
        "print(\"Predicted Matrix: \")\n",
        "for row_idx, row in enumerate(R_hat_rounded1):\n",
        "    for col_idx, val in enumerate(row):\n",
        "        if R[row_idx, col_idx] == 0:  # If original value is 0\n",
        "            print('\\033[92m' + str(val) + '\\033[0m', end=' ')  # Print predicted value in green color\n",
        "        else:\n",
        "            print(val, end=' ')  # Print predicted value\n",
        "    print()  # Newline for next row\n",
        "\n",
        "# Print predicted matrix with highlighted predicted values\n",
        "print(\"Predicted Matrix: \")\n",
        "for row_idx, row in enumerate(R_hat_rounded2):\n",
        "    for col_idx, val in enumerate(row):\n",
        "        if R[row_idx, col_idx] == 0:  # If original value is 0\n",
        "            print('\\033[92m' + str(val) + '\\033[0m', end=' ')  # Print predicted value in green color\n",
        "        else:\n",
        "            print(val, end=' ')  # Print predicted value\n",
        "    print()  # Newline for next row"
      ],
      "metadata": {
        "colab": {
          "base_uri": "https://localhost:8080/"
        },
        "id": "S-f54EVxJnzv",
        "outputId": "26e81999-ca3e-4c7a-f8a1-4e83a888696a"
      },
      "execution_count": 17,
      "outputs": [
        {
          "output_type": "stream",
          "name": "stdout",
          "text": [
            "Predicted Matrix: \n",
            "5 3 \u001b[92m1\u001b[0m 1 4 \n",
            "4 \u001b[92m4\u001b[0m \u001b[92m3\u001b[0m 2 2 \n",
            "4 5 4 3 \u001b[92m1\u001b[0m \n",
            "\u001b[92m5\u001b[0m 3 1 \u001b[92m1\u001b[0m 5 \n",
            "Predicted Matrix: \n",
            "4 3 \u001b[92m1\u001b[0m 1 4 \n",
            "2 \u001b[92m2\u001b[0m \u001b[92m1\u001b[0m 1 2 \n",
            "5 4 3 3 \u001b[92m1\u001b[0m \n",
            "\u001b[92m2\u001b[0m 2 1 \u001b[92m1\u001b[0m 5 \n"
          ]
        }
      ]
    }
  ]
}