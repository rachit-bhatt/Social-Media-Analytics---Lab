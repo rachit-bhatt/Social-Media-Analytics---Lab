{
 "cells": [
  {
   "cell_type": "markdown",
   "metadata": {},
   "source": [
    "## Libraries"
   ]
  },
  {
   "cell_type": "code",
   "execution_count": 23,
   "metadata": {},
   "outputs": [],
   "source": [
    "import numpy as np\n",
    "import pandas as pd"
   ]
  },
  {
   "cell_type": "markdown",
   "metadata": {},
   "source": [
    "## Fetching Dataset"
   ]
  },
  {
   "cell_type": "code",
   "execution_count": 24,
   "metadata": {},
   "outputs": [
    {
     "data": {
      "text/plain": [
       "(array([180., 170., 170., 140., 180., 150., 185., 165., 150., 140., 155.,\n",
       "        182., 170.]),\n",
       " array([180., 200., 180., 190., 130., 220., 110., 300.,  86., 300., 150.,\n",
       "        178., 150.]))"
      ]
     },
     "execution_count": 24,
     "metadata": {},
     "output_type": "execute_result"
    }
   ],
   "source": [
    "# Creating Empty Arrays.\n",
    "heights = np.array(list())\n",
    "weights = np.array(list())\n",
    "\n",
    "# File Operations.\n",
    "with open('hw.txt', 'r') as data:\n",
    "    # Pulling all content in file.\n",
    "    dataset = data.readlines()\n",
    "\n",
    "    # This is a better approach than looping.\n",
    "    # However, need to use map-reduce for\n",
    "    # stripping the extra `\\n` whitespace.\n",
    "    # heights = dataset[ : : 2]\n",
    "    # weights = dataset[1 : : 2]\n",
    "\n",
    "    # Iterating over each row to filter and fetch it.\n",
    "    for iteration in range(len(dataset)):\n",
    "        if iteration % 2 == 0:\n",
    "            heights = np.append(heights, int(dataset[iteration].strip()))\n",
    "        else:\n",
    "            weights = np.append(weights, int(dataset[iteration].strip()))\n",
    "\n",
    "heights, weights"
   ]
  },
  {
   "cell_type": "code",
   "execution_count": 25,
   "metadata": {},
   "outputs": [
    {
     "data": {
      "text/html": [
       "<div>\n",
       "<style scoped>\n",
       "    .dataframe tbody tr th:only-of-type {\n",
       "        vertical-align: middle;\n",
       "    }\n",
       "\n",
       "    .dataframe tbody tr th {\n",
       "        vertical-align: top;\n",
       "    }\n",
       "\n",
       "    .dataframe thead th {\n",
       "        text-align: right;\n",
       "    }\n",
       "</style>\n",
       "<table border=\"1\" class=\"dataframe\">\n",
       "  <thead>\n",
       "    <tr style=\"text-align: right;\">\n",
       "      <th></th>\n",
       "      <th>height_cm</th>\n",
       "      <th>weight_lb</th>\n",
       "    </tr>\n",
       "  </thead>\n",
       "  <tbody>\n",
       "    <tr>\n",
       "      <th>0</th>\n",
       "      <td>180.0</td>\n",
       "      <td>180.0</td>\n",
       "    </tr>\n",
       "    <tr>\n",
       "      <th>1</th>\n",
       "      <td>170.0</td>\n",
       "      <td>200.0</td>\n",
       "    </tr>\n",
       "    <tr>\n",
       "      <th>2</th>\n",
       "      <td>170.0</td>\n",
       "      <td>180.0</td>\n",
       "    </tr>\n",
       "    <tr>\n",
       "      <th>3</th>\n",
       "      <td>140.0</td>\n",
       "      <td>190.0</td>\n",
       "    </tr>\n",
       "    <tr>\n",
       "      <th>4</th>\n",
       "      <td>180.0</td>\n",
       "      <td>130.0</td>\n",
       "    </tr>\n",
       "    <tr>\n",
       "      <th>5</th>\n",
       "      <td>150.0</td>\n",
       "      <td>220.0</td>\n",
       "    </tr>\n",
       "    <tr>\n",
       "      <th>6</th>\n",
       "      <td>185.0</td>\n",
       "      <td>110.0</td>\n",
       "    </tr>\n",
       "    <tr>\n",
       "      <th>7</th>\n",
       "      <td>165.0</td>\n",
       "      <td>300.0</td>\n",
       "    </tr>\n",
       "    <tr>\n",
       "      <th>8</th>\n",
       "      <td>150.0</td>\n",
       "      <td>86.0</td>\n",
       "    </tr>\n",
       "    <tr>\n",
       "      <th>9</th>\n",
       "      <td>140.0</td>\n",
       "      <td>300.0</td>\n",
       "    </tr>\n",
       "    <tr>\n",
       "      <th>10</th>\n",
       "      <td>155.0</td>\n",
       "      <td>150.0</td>\n",
       "    </tr>\n",
       "    <tr>\n",
       "      <th>11</th>\n",
       "      <td>182.0</td>\n",
       "      <td>178.0</td>\n",
       "    </tr>\n",
       "    <tr>\n",
       "      <th>12</th>\n",
       "      <td>170.0</td>\n",
       "      <td>150.0</td>\n",
       "    </tr>\n",
       "  </tbody>\n",
       "</table>\n",
       "</div>"
      ],
      "text/plain": [
       "    height_cm  weight_lb\n",
       "0       180.0      180.0\n",
       "1       170.0      200.0\n",
       "2       170.0      180.0\n",
       "3       140.0      190.0\n",
       "4       180.0      130.0\n",
       "5       150.0      220.0\n",
       "6       185.0      110.0\n",
       "7       165.0      300.0\n",
       "8       150.0       86.0\n",
       "9       140.0      300.0\n",
       "10      155.0      150.0\n",
       "11      182.0      178.0\n",
       "12      170.0      150.0"
      ]
     },
     "execution_count": 25,
     "metadata": {},
     "output_type": "execute_result"
    }
   ],
   "source": [
    "# Reading data in DataFrame.\n",
    "df = pd.DataFrame(dict({\n",
    "    'height_cm' : heights,\n",
    "    'weight_lb' : weights\n",
    "}))\n",
    "df"
   ]
  },
  {
   "cell_type": "markdown",
   "metadata": {},
   "source": [
    "## Data Filtering"
   ]
  },
  {
   "cell_type": "code",
   "execution_count": 26,
   "metadata": {},
   "outputs": [
    {
     "data": {
      "text/plain": [
       "0     1.80\n",
       "1     1.70\n",
       "2     1.70\n",
       "3     1.40\n",
       "4     1.80\n",
       "5     1.50\n",
       "6     1.85\n",
       "7     1.65\n",
       "8     1.50\n",
       "9     1.40\n",
       "10    1.55\n",
       "11    1.82\n",
       "12    1.70\n",
       "Name: height_m, dtype: float64"
      ]
     },
     "execution_count": 26,
     "metadata": {},
     "output_type": "execute_result"
    }
   ],
   "source": [
    "# Converting Centi-Meters to Meters.\n",
    "df['height_m'] = df['height_cm'] / 100\n",
    "df.height_m"
   ]
  },
  {
   "cell_type": "code",
   "execution_count": 27,
   "metadata": {},
   "outputs": [
    {
     "data": {
      "text/plain": [
       "0      81.818182\n",
       "1      90.909091\n",
       "2      81.818182\n",
       "3      86.363636\n",
       "4      59.090909\n",
       "5     100.000000\n",
       "6      50.000000\n",
       "7     136.363636\n",
       "8      39.090909\n",
       "9     136.363636\n",
       "10     68.181818\n",
       "11     80.909091\n",
       "12     68.181818\n",
       "Name: weight_kg, dtype: float64"
      ]
     },
     "execution_count": 27,
     "metadata": {},
     "output_type": "execute_result"
    }
   ],
   "source": [
    "# Converting LBS to KG.\n",
    "df['weight_kg'] = df['weight_lb'] / 2.2\n",
    "df.weight_kg"
   ]
  },
  {
   "cell_type": "markdown",
   "metadata": {},
   "source": [
    "## Calculating BMI"
   ]
  },
  {
   "cell_type": "code",
   "execution_count": 28,
   "metadata": {},
   "outputs": [
    {
     "data": {
      "text/plain": [
       "0     25.252525\n",
       "1     31.456433\n",
       "2     28.310790\n",
       "3     44.063080\n",
       "4     18.237935\n",
       "5     44.444444\n",
       "6     14.609204\n",
       "7     50.087653\n",
       "8     17.373737\n",
       "9     69.573284\n",
       "10    28.379529\n",
       "11    24.426123\n",
       "12    23.592325\n",
       "Name: bmi, dtype: float64"
      ]
     },
     "execution_count": 28,
     "metadata": {},
     "output_type": "execute_result"
    }
   ],
   "source": [
    "df['bmi'] = df['weight_kg'] / (df['height_m'] * df['height_m'])\n",
    "df.bmi"
   ]
  },
  {
   "cell_type": "markdown",
   "metadata": {},
   "source": [
    "## Categorizing Weights"
   ]
  },
  {
   "cell_type": "markdown",
   "metadata": {},
   "source": [
    "### BMI Categories:\n",
    "- Under Weight <= 18.5\n",
    "- Normal Weight = 18.5 - 24.9\n",
    "- Over Weight = 25 - 29.9\n",
    "- Obesity >= 30"
   ]
  },
  {
   "cell_type": "code",
   "execution_count": 29,
   "metadata": {},
   "outputs": [
    {
     "data": {
      "text/plain": [
       "0      Over Weight\n",
       "1          Obesity\n",
       "2      Over Weight\n",
       "3          Obesity\n",
       "4     Under Weight\n",
       "5          Obesity\n",
       "6     Under Weight\n",
       "7          Obesity\n",
       "8     Under Weight\n",
       "9          Obesity\n",
       "10     Over Weight\n",
       "11          Normal\n",
       "12          Normal\n",
       "Name: bmi_categories, dtype: category\n",
       "Categories (4, object): ['Under Weight' < 'Normal' < 'Over Weight' < 'Obesity']"
      ]
     },
     "execution_count": 29,
     "metadata": {},
     "output_type": "execute_result"
    }
   ],
   "source": [
    "df['bmi_categories'] = pd.cut(df.bmi, bins = [0, 18.5, 25, 30, float('inf')], labels = ['Under Weight', 'Normal', 'Over Weight', 'Obesity'])\n",
    "df.bmi_categories"
   ]
  },
  {
   "cell_type": "code",
   "execution_count": 30,
   "metadata": {},
   "outputs": [
    {
     "data": {
      "text/plain": [
       "4     Under Weight\n",
       "6     Under Weight\n",
       "8     Under Weight\n",
       "11          Normal\n",
       "12          Normal\n",
       "0      Over Weight\n",
       "2      Over Weight\n",
       "10     Over Weight\n",
       "1          Obesity\n",
       "3          Obesity\n",
       "5          Obesity\n",
       "7          Obesity\n",
       "9          Obesity\n",
       "Name: bmi_categories, dtype: category\n",
       "Categories (4, object): ['Under Weight' < 'Normal' < 'Over Weight' < 'Obesity']"
      ]
     },
     "execution_count": 30,
     "metadata": {},
     "output_type": "execute_result"
    }
   ],
   "source": [
    "df.bmi_categories.sort_values()"
   ]
  },
  {
   "cell_type": "markdown",
   "metadata": {},
   "source": [
    "# Displaying Records"
   ]
  },
  {
   "cell_type": "code",
   "execution_count": 31,
   "metadata": {},
   "outputs": [
    {
     "name": "stdout",
     "output_type": "stream",
     "text": [
      "Under Weight:\n",
      "Person- 5 : 18.23793490460157\n",
      "Person- 7 : 14.609203798392985\n",
      "Person- 9 : 17.37373737373737\n",
      "Group Size: 3\n",
      "Average BMI for this group: 16.740292025577308\n",
      "Normal:\n",
      "Person- 12 : 24.426123327222225\n",
      "Person- 13 : 23.592324630386912\n",
      "Group Size: 2\n",
      "Average BMI for this group: 24.00922397880457\n",
      "Over Weight:\n",
      "Person- 1 : 25.25252525252525\n",
      "Person- 3 : 28.310789556464297\n",
      "Person- 11 : 28.379528899820254\n",
      "Group Size: 3\n",
      "Average BMI for this group: 27.314281236269935\n",
      "Obesity:\n",
      "Person- 2 : 31.456432840515888\n",
      "Person- 4 : 44.063079777365495\n",
      "Person- 6 : 44.444444444444436\n",
      "Person- 8 : 50.087653393438515\n",
      "Person- 10 : 69.57328385899814\n",
      "Group Size: 5\n",
      "Average BMI for this group: 47.92497886295249\n",
      "The file has records for: 13 persons\n",
      "Average BMI for all these 13 persons: 32.292850927531795\n"
     ]
    }
   ],
   "source": [
    "for category in df.bmi_categories.sort_values().unique():\n",
    "    print(f'{ category }:')\n",
    "    dataset = df[df.bmi_categories == category]\n",
    "    for person_index, data in dataset.iterrows():\n",
    "        print(f'Person- { person_index + 1 } : { data.bmi }')\n",
    "    print(f'Group Size: { len(dataset) }')\n",
    "    print(f'Average BMI for this group: { dataset.bmi.mean() }')\n",
    "\n",
    "print(f'The file has records for: { len(df) } persons')\n",
    "print(f'Average BMI for all these { len(df) } persons: { df.bmi.mean() }')"
   ]
  }
 ],
 "metadata": {
  "kernelspec": {
   "display_name": "Python 3",
   "language": "python",
   "name": "python3"
  },
  "language_info": {
   "codemirror_mode": {
    "name": "ipython",
    "version": 3
   },
   "file_extension": ".py",
   "mimetype": "text/x-python",
   "name": "python",
   "nbconvert_exporter": "python",
   "pygments_lexer": "ipython3",
   "version": "3.12.4"
  }
 },
 "nbformat": 4,
 "nbformat_minor": 2
}
