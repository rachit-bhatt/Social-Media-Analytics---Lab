{
 "cells": [
  {
   "cell_type": "markdown",
   "metadata": {},
   "source": [
    "# Lab 3 - Web Scraping & One-Hot Encoding"
   ]
  },
  {
   "cell_type": "code",
   "execution_count": 1,
   "metadata": {},
   "outputs": [],
   "source": [
    "import re\n",
    "import requests"
   ]
  },
  {
   "cell_type": "code",
   "execution_count": 2,
   "metadata": {},
   "outputs": [],
   "source": [
    "re_title = r'<title>(.*?)<\\/title>'\n",
    "re_email = r'[a-zA-Z0-9._%+-]+@[a-zA-Z0-9._-]+\\.[a-zA-Z]{2,}'\n",
    "re_phone = r'\\(?\\d{3}\\)?[-.\\s]?\\d{3}[-.\\s]?\\d{4}'\n",
    "\n",
    "re_address = r'\\d+\\s+[A-Za-z\\s]+,\\s*[A-Za-z\\s]+,\\s*[A-Z]{2}\\s*[A-Z0-9]{3,6}'\n",
    "re_address = r'\\d{1,3}.?\\d*\\s[a-zA-Z]{2,}\\s?[a-zA-Z]{0,},?\\s?[a-zA-Z]+,?\\s?[A-Z]{2,3}\\s?\\d{5,6}'\n",
    "re_address = r'\\d{1,5}\\s[\\w\\s]+,\\s[\\w\\s]+,\\s[A-Z]{2},\\s?[A-Z0-9\\s]+'\n",
    "re_address = r'(\\d{1,5}[\\w\\s.,\\-]+(St|Street|Rd|Road|Ave|Avenue|Blvd|Boulevard|Dr|Drive|Lane|Ln|Way|Court|Plaza|Circle|Crescent)[\\w\\s.,\\-]+,\\s?[A-Za-z\\s]+,\\s?[A-Z]{2,3}\\s?\\d{5,6})'\n",
    "re_address = r'(\\d{1,5}[\\w\\s.,\\-]+(St|Street|Rd|Road|Ave|Avenue|Blvd|Boulevard|Dr|Drive|Lane|Ln|Way|Court|Plaza|Circle|Crescent)[\\w\\s.,\\-]+,\\s?[A-Za-z\\s]+,\\s?[A-Za-z\\s]+,\\s?[A-Z]{2,3}\\s?\\d{5,6})'\n",
    "re_address = r'(\\d{1,6}\\s+[a-zA-Z0-9\\s.,\\'-]+(?:St|Street|Rd|Road|Ave|Avenue|Blvd|Boulevard|Dr|Drive|Lane|Ln|Way|Court|Circle|Crescent|Campus|Loop|Parkway|Trail|Plaza|Place|Mall|Park|Square)[\\s.,]+[A-Za-z\\s]+,\\s?[A-Za-z\\s]+,\\s?(?:[A-Z]{2,3}\\s?\\d{5}|\\w{2,3}\\d{1,2}\\w{1,2}\\s?\\d{1,2}\\w{2,3})?)'"
   ]
  },
  {
   "cell_type": "code",
   "execution_count": 3,
   "metadata": {},
   "outputs": [],
   "source": [
    "urls = {\n",
    "    'Loyalist' : 'https://loyalistcollege.com/about/contact-us/',\n",
    "    'Seneca' : 'https://www.senecapolytechnic.ca/news-and-events/media-releases.html',\n",
    "    'OntarioTech' : 'https://ontariotechu.ca/',\n",
    "    'Centennial' : 'https://www.centennialcollege.ca/about-centennial/contact-us',\n",
    "    'Georgian' : 'https://www.georgiancollege.ca/about-georgian/campuses/barrie-campus/#contact'\n",
    "}"
   ]
  },
  {
   "cell_type": "code",
   "execution_count": 4,
   "metadata": {},
   "outputs": [
    {
     "name": "stdout",
     "output_type": "stream",
     "text": [
      "{'College': 'Lambton', 'URL': 'https://www.lambtoncollege.ca/', 'Title': 'Lambton College Home | Lambton College', 'Email': ['info@lambtoncollege.ca', 'info@lambtoncollege.ca'], 'Phone': ['519-542-7751', '6383849322', '519-542-7751', '519-542-7751', '613-462-8431', '416-485-2098', '905-890-7833'], 'Address': ['1457 London Road, Sarnia, ON, ']}\n",
      "{'College': 'Loyalist', 'URL': 'https://loyalistcollege.com/about/contact-us/', 'Title': 'Contact us - Loyalist College', 'Email': ['fippa@loyalistcollege.com', 'info@loyalistcollege.com', 'hbrown@loyalistcollege.com', 'hbrown@loyalistcollege.com', 'communications@loyalistcollege.com', 'communications@loyalistcollege.com', 'AccessAbility@loyalistcollege.com', 'AccessAbility@loyalistcollege.com', 'admissions@loyalistcollege.com', 'admissions@loyalistcollege.com', 'internationaladmissions@loyalistcollege.com', 'internationaladmissions@loyalistcollege.com', 'athletics@loyalistcollege.com', 'athletics@loyalistcollege.com', 'awards@loyalistcollege.com', 'awards@loyalistcollege.com', 'distance@loyalistcollege.com', 'distance@loyalistcollege.com', 'finaid@loyalistcollege.com', 'finaid@loyalistcollege.com', 'indigenousrc@loyalistcollege.com', 'indigenousrc@loyalistcollege.com', 'giving@loyalistcollege.com', 'giving@loyalistcollege.com', 'pathways@loyalistcollege.com', 'pathways@loyalistcollege.com', 'residence@loyalistcollege.com', 'residence@loyalistcollege.com', 'studentgovt@loyalistcollege.com', 'studentgovt@loyalistcollege.com', 'advising@loyalistcollege.com', 'advising@loyalistcollege.com'], 'Phone': ['1049498091', '240923-1140', '240923-1140', '240923-1140', '1727091637', '1347494756', '4013800008', '4013800008', '613-969-1913', '613-962-1376', '888-569-2547', '613-962-0633', '613-921-0784', '1049498091'], 'Address': []}\n",
      "{'College': 'Seneca', 'URL': 'https://www.senecapolytechnic.ca/news-and-events/media-releases.html', 'Title': 'Media Releases - Seneca Polytechnic, Toronto, Canada', 'Email': ['media.relations@senecapolytechnic.ca', 'media.relations@senecapolytechnic.ca'], 'Phone': ['416.764.0996', '416.491.5050', '1995455392', '1515974876'], 'Address': []}\n",
      "{'College': 'OntarioTech University', 'URL': 'https://ontariotechu.ca/', 'Title': 'Ontario Tech University', 'Email': ['webteam@uoit.net', 'uoitweb@gmail.com'], 'Phone': ['1727119349', '0056474949', '4478269533', '5427294871', '0004187733', '8354920952', '0146066108', '7037520403', '823 120.7798', '105 128.9174', '105 128.9174', '669 123.0829', '942 128.2773', '942 128.2773', '146 123.0829', '146 123.0829', '026 129.3562', '026 129.3562', '105 179.3154', '029 175.4199', '029 175.4199', '823 173.0981', '029 169.2027', '029 169.2027', '497 194.7651', '497 194.7651', '296 202.8533', '296 202.8533', '683 208.8892', '296 216.9774', '0056474949', '5427294871', '9545076505', '905.721.8668', '1708723647'], 'Address': []}\n",
      "{'College': 'Goerge Brown', 'URL': 'https://www.georgebrown.ca/about', 'Title': 'About George Brown College | George Brown College', 'Email': ['ask.george@georgebrown.ca', 'ask.george@georgebrown.ca'], 'Phone': ['1727141486', '1443493343', '1416415200', '416-415-2000', '001-0272499', '088258-2458', '7983330605', '0642347039', '085-1652664', '1960934400', '922-4339848', '762420-2706', '392-3410708', '255-8986586', '9339921173', '851177-8937', '882830-9152', '6023210514', '3915611493', '9126482176', '1443493343', '8000000000', '0140293836', '5434113679'], 'Address': []}\n"
     ]
    }
   ],
   "source": [
    "for college, url in urls.items():\n",
    "    # Fetching Data from the given `URL`.\n",
    "    response = requests.get(url)\n",
    "\n",
    "    # Getting HTML Content as Text.\n",
    "    content = response.text\n",
    "\n",
    "    # Extracting Page-Title from the Website.\n",
    "    titles = re.search(re_title, content)\n",
    "\n",
    "    # Extracting Email from the Website.\n",
    "    emails = re.findall(re_email, content)\n",
    "\n",
    "    # Extracting Phone-Number from the Website.\n",
    "    phones = re.findall(re_phone, content)\n",
    "\n",
    "    # Extracting Address from the Website.\n",
    "    addresses = re.findall(re_address, content)\n",
    "\n",
    "    print({\n",
    "        'College' : college,\n",
    "        'URL' : url,\n",
    "        'Title' : titles.group(1) if titles else 'No Title Found',\n",
    "        'Email' : emails,\n",
    "        'Phone' : phones,\n",
    "        'Address' : addresses\n",
    "    })"
   ]
  },
  {
   "cell_type": "code",
   "execution_count": 1,
   "metadata": {},
   "outputs": [
    {
     "name": "stdout",
     "output_type": "stream",
     "text": [
      "URL: https://loyalistcollege.com/about/contact-us/ -> Found addresses: 50 milliseconds to fix a bug in chrome, 2 of the Ontario Colleges of Applied Arts and Technology Act for recruiting and related purposes, 911 and Public Safety Communications\n",
      "URL: https://www.senecapolytechnic.ca/news-and-events/media-releases.html -> Found addresses: 2 million in applied research funding, 19 Vaccination Clinic Re, 19 by donating equipment and supplies to hospitals, 5 million from federal government to boost applied research centres, 15 times and counting, 2 million from the Government of Canada to help women prepare for new careers, 19 vaccination clinic to serve North York residents, 000 from the City of Toronto to continue Newnham Campus greening project, 2024 All rights reserved, 000 donation from Scotiabank, 000 for applied research benefiting urban farmers, 1750 Finch Avenue East, 000 boost from TD Bank Group to help recharge more careers, 19 does not slow down reconciliation at Seneca, 000 grant to create more opportunities for students to study abroad, 000 grant from City of Toronto, 100 microcredentials help professionals and students advance their careers, 2 million to fund a new applied research centre in life sciences, 8 million in facilities and equipment funding from Ontario government, 100 short courses designed to help students and professionals acquire the skills they need to take their careers to the next level and respond to work disruptions caused by the pandemic\n",
      "URL: https://ontariotechu.ca/ -> Found addresses: 29 and Monday September, 400 participants at the 2024 Ontario Tech Chancellor, 2 Simcoe Street South, 2023 Fall Convocation outside the university, 30 for a day of education and reflection on Canada, 32 new Ontario Tech, 285 Britannia Ave W Oshawa ON, 2000 Simcoe Street North\n",
      "URL: https://www.centennialcollege.ca/about-centennial/contact-us -> Found addresses: 2022 top employer Centennial College logo, 2024 top employer Centennial College website, 9 am to 5 pmPhone\n",
      "URL: https://www.georgiancollege.ca/about-georgian/campuses/barrie-campus/#contact -> Found addresses: 2 male students working on their laptops, 16 at all campuses, 2 students sitting in an old car, 1 ul li a, 4 students from Lakehead, 2 males in a computer science class, 2 female and 1 male student sitting outside of the Peter B, 3 male paramedic students in the paramedic lab with stretcher and tools, 5 female students at a Last Class event, 15 major grocery stores across the city year, 2 female students in a studio taking photos\n"
     ]
    }
   ],
   "source": [
    "import requests\n",
    "import re\n",
    "\n",
    "# List of URLs to scrape\n",
    "urls = [\n",
    "    \"https://loyalistcollege.com/about/contact-us/\",\n",
    "    \"https://www.senecapolytechnic.ca/news-and-events/media-releases.html\",\n",
    "    \"https://ontariotechu.ca/\",\n",
    "    \"https://www.centennialcollege.ca/about-centennial/contact-us\",\n",
    "    \"https://www.georgiancollege.ca/about-georgian/campuses/barrie-campus/#contact\"\n",
    "]\n",
    "\n",
    "# Regular expression for street address, city, province, and postal code\n",
    "address_pattern = r\"(\\d+\\s\\w+\\s(?:[A-Za-z]+(?:\\s\\w+)*)),?\\s+([A-Za-z]+(?:\\s[A-Za-z]+)*),?\\s*(ON|QC|NS|NB|MB|BC|PE|SK|AB|NL|NT|YT|NU)?\\s*(\\w\\d\\w\\s?\\d\\w\\d)?\"\n",
    "\n",
    "# Function to fetch content from a URL and search for address-like patterns using regex\n",
    "def fetch_and_extract_address(url):\n",
    "    try:\n",
    "        # Fetch HTML content from the URL\n",
    "        response = requests.get(url)\n",
    "        response.raise_for_status()  # Ensure the request was successful\n",
    "\n",
    "        # Extract all text from the HTML content\n",
    "        text = response.text\n",
    "\n",
    "        # Use regex to search for address patterns in the text\n",
    "        matches = re.findall(address_pattern, text, re.IGNORECASE)\n",
    "\n",
    "        if matches:\n",
    "            # Clean up and join the matched parts of the address\n",
    "            addresses = [\" \".join([part for part in match if part]).strip() for match in matches]\n",
    "            return f\"Found addresses: {', '.join(set(addresses))}\"\n",
    "        else:\n",
    "            return \"No address found.\"\n",
    "    except requests.exceptions.RequestException as e:\n",
    "        return f\"Failed to fetch {url}: {e}\"\n",
    "\n",
    "# Iterate over each URL and extract address information\n",
    "for url in urls:\n",
    "    address_info = fetch_and_extract_address(url)\n",
    "    print(f\"URL: {url} -> {address_info}\")"
   ]
  },
  {
   "cell_type": "code",
   "execution_count": 9,
   "metadata": {},
   "outputs": [
    {
     "name": "stdout",
     "output_type": "stream",
     "text": [
      "URL: https://loyalistcollege.com/about/contact-us/ -> No address found.\n",
      "URL: https://www.senecapolytechnic.ca/news-and-events/media-releases.html -> No address found.\n",
      "URL: https://ontariotechu.ca/ -> No address found.\n",
      "URL: https://www.centennialcollege.ca/about-centennial/contact-us -> No address found.\n",
      "URL: https://www.georgiancollege.ca/about-georgian/campuses/barrie-campus/#contact -> No address found.\n"
     ]
    }
   ],
   "source": [
    "import requests\n",
    "import re\n",
    "\n",
    "# List of URLs to scrape\n",
    "urls = [\n",
    "    \"https://loyalistcollege.com/about/contact-us/\",\n",
    "    \"https://www.senecapolytechnic.ca/news-and-events/media-releases.html\",\n",
    "    \"https://ontariotechu.ca/\",\n",
    "    \"https://www.centennialcollege.ca/about-centennial/contact-us\",\n",
    "    \"https://www.georgiancollege.ca/about-georgian/campuses/barrie-campus/#contact\"\n",
    "]\n",
    "\n",
    "# Regular expression to find content in <p> tags containing <br> tags (addresses)\n",
    "address_pattern = r'<p>(.*?(?:<br\\s*/?>)+.*?)</p>'\n",
    "\n",
    "# Regex to remove unnecessary elements (like scripts and styles) from the HTML content\n",
    "cleanup_pattern = r'<(script|style).*?>.*?</\\1>|<!--.*?-->|<.*?>'\n",
    "\n",
    "# Function to fetch HTML content and clean unnecessary tags\n",
    "def fetch_and_clean_html(url):\n",
    "    try:\n",
    "        response = requests.get(url)\n",
    "        response.raise_for_status()\n",
    "        html_content = response.text\n",
    "\n",
    "        # Remove script, style tags, and HTML comments\n",
    "        cleaned_content = re.sub(cleanup_pattern, '', html_content, flags=re.DOTALL)\n",
    "\n",
    "        return cleaned_content\n",
    "    except requests.exceptions.RequestException as e:\n",
    "        return None\n",
    "\n",
    "# Function to extract addresses from cleaned HTML\n",
    "def extract_address(cleaned_html):\n",
    "    # Search for the address pattern inside <p> tags with <br> tags\n",
    "    matches = re.findall(address_pattern, cleaned_html, re.DOTALL)\n",
    "\n",
    "    if matches:\n",
    "        # Further clean and format the address by removing <br> tags and extraneous spaces\n",
    "        addresses = [re.sub(r'<br\\s*/?>', ', ', match.strip()) for match in matches]\n",
    "        # Remove any remaining HTML tags from the addresses\n",
    "        clean_addresses = [re.sub(r'<.*?>', '', addr).strip() for addr in addresses]\n",
    "        return f\"Found addresses: {', '.join(set(clean_addresses))}\"\n",
    "    else:\n",
    "        return \"No address found.\"\n",
    "\n",
    "# Iterate over each URL, clean the HTML, and extract address information\n",
    "for url in urls:\n",
    "    cleaned_html = fetch_and_clean_html(url)\n",
    "    \n",
    "    if cleaned_html:\n",
    "        address_info = extract_address(cleaned_html)\n",
    "        print(f\"URL: {url} -> {address_info}\")\n",
    "    else:\n",
    "        print(f\"Failed to fetch content from {url}\")"
   ]
  }
 ],
 "metadata": {
  "kernelspec": {
   "display_name": "Python 3",
   "language": "python",
   "name": "python3"
  },
  "language_info": {
   "codemirror_mode": {
    "name": "ipython",
    "version": 3
   },
   "file_extension": ".py",
   "mimetype": "text/x-python",
   "name": "python",
   "nbconvert_exporter": "python",
   "pygments_lexer": "ipython3",
   "version": "3.12.4"
  }
 },
 "nbformat": 4,
 "nbformat_minor": 2
}
